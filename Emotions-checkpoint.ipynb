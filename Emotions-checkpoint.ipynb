{
 "cells": [
  {
   "cell_type": "code",
   "execution_count": 35,
   "metadata": {},
   "outputs": [],
   "source": [
    "#!pip install nltk\n",
    "#nltk.download('stopwords')\n",
    "#nltk.download('wordnet')"
   ]
  },
  {
   "cell_type": "code",
   "execution_count": 36,
   "metadata": {},
   "outputs": [],
   "source": [
    "import nltk\n",
    "import pandas as pd\n",
    "import re\n",
    "from sklearn.feature_extraction.text import TfidfVectorizer\n",
    "import string"
   ]
  },
  {
   "cell_type": "code",
   "execution_count": 37,
   "metadata": {},
   "outputs": [
    {
     "data": {
      "text/html": [
       "<div>\n",
       "<style scoped>\n",
       "    .dataframe tbody tr th:only-of-type {\n",
       "        vertical-align: middle;\n",
       "    }\n",
       "\n",
       "    .dataframe tbody tr th {\n",
       "        vertical-align: top;\n",
       "    }\n",
       "\n",
       "    .dataframe thead th {\n",
       "        text-align: right;\n",
       "    }\n",
       "</style>\n",
       "<table border=\"1\" class=\"dataframe\">\n",
       "  <thead>\n",
       "    <tr style=\"text-align: right;\">\n",
       "      <th></th>\n",
       "      <th>text</th>\n",
       "      <th>emotions</th>\n",
       "    </tr>\n",
       "  </thead>\n",
       "  <tbody>\n",
       "    <tr>\n",
       "      <th>0</th>\n",
       "      <td>im feeling quite sad and sorry for myself but ...</td>\n",
       "      <td>sadness</td>\n",
       "    </tr>\n",
       "    <tr>\n",
       "      <th>1</th>\n",
       "      <td>i feel like i am still looking at a blank canv...</td>\n",
       "      <td>sadness</td>\n",
       "    </tr>\n",
       "    <tr>\n",
       "      <th>2</th>\n",
       "      <td>i feel like a faithful servant</td>\n",
       "      <td>love</td>\n",
       "    </tr>\n",
       "    <tr>\n",
       "      <th>3</th>\n",
       "      <td>i am just feeling cranky and blue</td>\n",
       "      <td>anger</td>\n",
       "    </tr>\n",
       "    <tr>\n",
       "      <th>4</th>\n",
       "      <td>i can have for a treat or if i am feeling festive</td>\n",
       "      <td>joy</td>\n",
       "    </tr>\n",
       "  </tbody>\n",
       "</table>\n",
       "</div>"
      ],
      "text/plain": [
       "                                                text emotions\n",
       "0  im feeling quite sad and sorry for myself but ...  sadness\n",
       "1  i feel like i am still looking at a blank canv...  sadness\n",
       "2                     i feel like a faithful servant     love\n",
       "3                  i am just feeling cranky and blue    anger\n",
       "4  i can have for a treat or if i am feeling festive      joy"
      ]
     },
     "execution_count": 37,
     "metadata": {},
     "output_type": "execute_result"
    }
   ],
   "source": [
    "# Import the data\n",
    "data = pd.read_table(\"emotions.txt\",header = None, sep = ';')\n",
    "data.rename(columns={0: 'text', 1: 'emotions'}, inplace=True)\n",
    "data.head()"
   ]
  },
  {
   "cell_type": "code",
   "execution_count": 38,
   "metadata": {},
   "outputs": [
    {
     "data": {
      "text/plain": [
       "joy         704\n",
       "sadness     550\n",
       "anger       275\n",
       "fear        212\n",
       "love        178\n",
       "surprise     81\n",
       "Name: emotions, dtype: int64"
      ]
     },
     "execution_count": 38,
     "metadata": {},
     "output_type": "execute_result"
    }
   ],
   "source": [
    "data['emotions'].value_counts()\n"
   ]
  },
  {
   "cell_type": "markdown",
   "metadata": {},
   "source": [
    "**Function to remove Punctuation**"
   ]
  },
  {
   "cell_type": "code",
   "execution_count": 39,
   "metadata": {},
   "outputs": [
    {
     "data": {
      "text/html": [
       "<div>\n",
       "<style scoped>\n",
       "    .dataframe tbody tr th:only-of-type {\n",
       "        vertical-align: middle;\n",
       "    }\n",
       "\n",
       "    .dataframe tbody tr th {\n",
       "        vertical-align: top;\n",
       "    }\n",
       "\n",
       "    .dataframe thead th {\n",
       "        text-align: right;\n",
       "    }\n",
       "</style>\n",
       "<table border=\"1\" class=\"dataframe\">\n",
       "  <thead>\n",
       "    <tr style=\"text-align: right;\">\n",
       "      <th></th>\n",
       "      <th>text</th>\n",
       "      <th>emotions</th>\n",
       "      <th>body_text_clean</th>\n",
       "    </tr>\n",
       "  </thead>\n",
       "  <tbody>\n",
       "    <tr>\n",
       "      <th>0</th>\n",
       "      <td>im feeling quite sad and sorry for myself but ...</td>\n",
       "      <td>sadness</td>\n",
       "      <td>im feeling quite sad and sorry for myself but ...</td>\n",
       "    </tr>\n",
       "    <tr>\n",
       "      <th>1</th>\n",
       "      <td>i feel like i am still looking at a blank canv...</td>\n",
       "      <td>sadness</td>\n",
       "      <td>i feel like i am still looking at a blank canv...</td>\n",
       "    </tr>\n",
       "    <tr>\n",
       "      <th>2</th>\n",
       "      <td>i feel like a faithful servant</td>\n",
       "      <td>love</td>\n",
       "      <td>i feel like a faithful servant</td>\n",
       "    </tr>\n",
       "    <tr>\n",
       "      <th>3</th>\n",
       "      <td>i am just feeling cranky and blue</td>\n",
       "      <td>anger</td>\n",
       "      <td>i am just feeling cranky and blue</td>\n",
       "    </tr>\n",
       "    <tr>\n",
       "      <th>4</th>\n",
       "      <td>i can have for a treat or if i am feeling festive</td>\n",
       "      <td>joy</td>\n",
       "      <td>i can have for a treat or if i am feeling festive</td>\n",
       "    </tr>\n",
       "  </tbody>\n",
       "</table>\n",
       "</div>"
      ],
      "text/plain": [
       "                                                text emotions  \\\n",
       "0  im feeling quite sad and sorry for myself but ...  sadness   \n",
       "1  i feel like i am still looking at a blank canv...  sadness   \n",
       "2                     i feel like a faithful servant     love   \n",
       "3                  i am just feeling cranky and blue    anger   \n",
       "4  i can have for a treat or if i am feeling festive      joy   \n",
       "\n",
       "                                     body_text_clean  \n",
       "0  im feeling quite sad and sorry for myself but ...  \n",
       "1  i feel like i am still looking at a blank canv...  \n",
       "2                     i feel like a faithful servant  \n",
       "3                  i am just feeling cranky and blue  \n",
       "4  i can have for a treat or if i am feeling festive  "
      ]
     },
     "execution_count": 39,
     "metadata": {},
     "output_type": "execute_result"
    }
   ],
   "source": [
    "def remove_punct(text):\n",
    "    text_nopunct = \"\".join([char for char in text if char not in string.punctuation])\n",
    "    return text_nopunct\n",
    "\n",
    "data['body_text_clean'] = data['text'].apply(lambda x: remove_punct(x))\n",
    "\n",
    "data.head()"
   ]
  },
  {
   "cell_type": "markdown",
   "metadata": {},
   "source": [
    "**Tokenization** :\n",
    "Basically, separating the sentence into an array of words"
   ]
  },
  {
   "cell_type": "code",
   "execution_count": 40,
   "metadata": {},
   "outputs": [
    {
     "data": {
      "text/html": [
       "<div>\n",
       "<style scoped>\n",
       "    .dataframe tbody tr th:only-of-type {\n",
       "        vertical-align: middle;\n",
       "    }\n",
       "\n",
       "    .dataframe tbody tr th {\n",
       "        vertical-align: top;\n",
       "    }\n",
       "\n",
       "    .dataframe thead th {\n",
       "        text-align: right;\n",
       "    }\n",
       "</style>\n",
       "<table border=\"1\" class=\"dataframe\">\n",
       "  <thead>\n",
       "    <tr style=\"text-align: right;\">\n",
       "      <th></th>\n",
       "      <th>text</th>\n",
       "      <th>emotions</th>\n",
       "      <th>body_text_clean</th>\n",
       "      <th>body_text_tokenized</th>\n",
       "    </tr>\n",
       "  </thead>\n",
       "  <tbody>\n",
       "    <tr>\n",
       "      <th>0</th>\n",
       "      <td>im feeling quite sad and sorry for myself but ...</td>\n",
       "      <td>sadness</td>\n",
       "      <td>im feeling quite sad and sorry for myself but ...</td>\n",
       "      <td>[im, feeling, quite, sad, and, sorry, for, mys...</td>\n",
       "    </tr>\n",
       "    <tr>\n",
       "      <th>1</th>\n",
       "      <td>i feel like i am still looking at a blank canv...</td>\n",
       "      <td>sadness</td>\n",
       "      <td>i feel like i am still looking at a blank canv...</td>\n",
       "      <td>[i, feel, like, i, am, still, looking, at, a, ...</td>\n",
       "    </tr>\n",
       "    <tr>\n",
       "      <th>2</th>\n",
       "      <td>i feel like a faithful servant</td>\n",
       "      <td>love</td>\n",
       "      <td>i feel like a faithful servant</td>\n",
       "      <td>[i, feel, like, a, faithful, servant]</td>\n",
       "    </tr>\n",
       "    <tr>\n",
       "      <th>3</th>\n",
       "      <td>i am just feeling cranky and blue</td>\n",
       "      <td>anger</td>\n",
       "      <td>i am just feeling cranky and blue</td>\n",
       "      <td>[i, am, just, feeling, cranky, and, blue]</td>\n",
       "    </tr>\n",
       "    <tr>\n",
       "      <th>4</th>\n",
       "      <td>i can have for a treat or if i am feeling festive</td>\n",
       "      <td>joy</td>\n",
       "      <td>i can have for a treat or if i am feeling festive</td>\n",
       "      <td>[i, can, have, for, a, treat, or, if, i, am, f...</td>\n",
       "    </tr>\n",
       "  </tbody>\n",
       "</table>\n",
       "</div>"
      ],
      "text/plain": [
       "                                                text emotions  \\\n",
       "0  im feeling quite sad and sorry for myself but ...  sadness   \n",
       "1  i feel like i am still looking at a blank canv...  sadness   \n",
       "2                     i feel like a faithful servant     love   \n",
       "3                  i am just feeling cranky and blue    anger   \n",
       "4  i can have for a treat or if i am feeling festive      joy   \n",
       "\n",
       "                                     body_text_clean  \\\n",
       "0  im feeling quite sad and sorry for myself but ...   \n",
       "1  i feel like i am still looking at a blank canv...   \n",
       "2                     i feel like a faithful servant   \n",
       "3                  i am just feeling cranky and blue   \n",
       "4  i can have for a treat or if i am feeling festive   \n",
       "\n",
       "                                 body_text_tokenized  \n",
       "0  [im, feeling, quite, sad, and, sorry, for, mys...  \n",
       "1  [i, feel, like, i, am, still, looking, at, a, ...  \n",
       "2              [i, feel, like, a, faithful, servant]  \n",
       "3          [i, am, just, feeling, cranky, and, blue]  \n",
       "4  [i, can, have, for, a, treat, or, if, i, am, f...  "
      ]
     },
     "execution_count": 40,
     "metadata": {},
     "output_type": "execute_result"
    }
   ],
   "source": [
    "import re\n",
    "\n",
    "# Function to Tokenize words\n",
    "def tokenize(text):\n",
    "    tokens = re.split('\\W+', text) #W+ means that either a word character (A-Za-z0-9_) or a dash (-) can go there.\n",
    "    return tokens\n",
    "\n",
    "data['body_text_tokenized'] = data['body_text_clean'].apply(lambda x: tokenize(x.lower())) \n",
    "#We convert to lower as Python is case-sensitive. \n",
    "\n",
    "data.head()"
   ]
  },
  {
   "cell_type": "markdown",
   "metadata": {},
   "source": [
    "**Removing stopwords** :Basically, we remove words that have little value in terms of machine learning (Eg, a, the,are) as we are not concerned whether the sentence makes grammatical sense"
   ]
  },
  {
   "cell_type": "code",
   "execution_count": 41,
   "metadata": {},
   "outputs": [
    {
     "data": {
      "text/html": [
       "<div>\n",
       "<style scoped>\n",
       "    .dataframe tbody tr th:only-of-type {\n",
       "        vertical-align: middle;\n",
       "    }\n",
       "\n",
       "    .dataframe tbody tr th {\n",
       "        vertical-align: top;\n",
       "    }\n",
       "\n",
       "    .dataframe thead th {\n",
       "        text-align: right;\n",
       "    }\n",
       "</style>\n",
       "<table border=\"1\" class=\"dataframe\">\n",
       "  <thead>\n",
       "    <tr style=\"text-align: right;\">\n",
       "      <th></th>\n",
       "      <th>text</th>\n",
       "      <th>emotions</th>\n",
       "      <th>body_text_clean</th>\n",
       "      <th>body_text_tokenized</th>\n",
       "      <th>body_text_nostop</th>\n",
       "    </tr>\n",
       "  </thead>\n",
       "  <tbody>\n",
       "    <tr>\n",
       "      <th>0</th>\n",
       "      <td>im feeling quite sad and sorry for myself but ...</td>\n",
       "      <td>sadness</td>\n",
       "      <td>im feeling quite sad and sorry for myself but ...</td>\n",
       "      <td>[im, feeling, quite, sad, and, sorry, for, mys...</td>\n",
       "      <td>[im, feeling, quite, sad, sorry, ill, snap, soon]</td>\n",
       "    </tr>\n",
       "    <tr>\n",
       "      <th>1</th>\n",
       "      <td>i feel like i am still looking at a blank canv...</td>\n",
       "      <td>sadness</td>\n",
       "      <td>i feel like i am still looking at a blank canv...</td>\n",
       "      <td>[i, feel, like, i, am, still, looking, at, a, ...</td>\n",
       "      <td>[feel, like, still, looking, blank, canvas, bl...</td>\n",
       "    </tr>\n",
       "    <tr>\n",
       "      <th>2</th>\n",
       "      <td>i feel like a faithful servant</td>\n",
       "      <td>love</td>\n",
       "      <td>i feel like a faithful servant</td>\n",
       "      <td>[i, feel, like, a, faithful, servant]</td>\n",
       "      <td>[feel, like, faithful, servant]</td>\n",
       "    </tr>\n",
       "    <tr>\n",
       "      <th>3</th>\n",
       "      <td>i am just feeling cranky and blue</td>\n",
       "      <td>anger</td>\n",
       "      <td>i am just feeling cranky and blue</td>\n",
       "      <td>[i, am, just, feeling, cranky, and, blue]</td>\n",
       "      <td>[feeling, cranky, blue]</td>\n",
       "    </tr>\n",
       "    <tr>\n",
       "      <th>4</th>\n",
       "      <td>i can have for a treat or if i am feeling festive</td>\n",
       "      <td>joy</td>\n",
       "      <td>i can have for a treat or if i am feeling festive</td>\n",
       "      <td>[i, can, have, for, a, treat, or, if, i, am, f...</td>\n",
       "      <td>[treat, feeling, festive]</td>\n",
       "    </tr>\n",
       "  </tbody>\n",
       "</table>\n",
       "</div>"
      ],
      "text/plain": [
       "                                                text emotions  \\\n",
       "0  im feeling quite sad and sorry for myself but ...  sadness   \n",
       "1  i feel like i am still looking at a blank canv...  sadness   \n",
       "2                     i feel like a faithful servant     love   \n",
       "3                  i am just feeling cranky and blue    anger   \n",
       "4  i can have for a treat or if i am feeling festive      joy   \n",
       "\n",
       "                                     body_text_clean  \\\n",
       "0  im feeling quite sad and sorry for myself but ...   \n",
       "1  i feel like i am still looking at a blank canv...   \n",
       "2                     i feel like a faithful servant   \n",
       "3                  i am just feeling cranky and blue   \n",
       "4  i can have for a treat or if i am feeling festive   \n",
       "\n",
       "                                 body_text_tokenized  \\\n",
       "0  [im, feeling, quite, sad, and, sorry, for, mys...   \n",
       "1  [i, feel, like, i, am, still, looking, at, a, ...   \n",
       "2              [i, feel, like, a, faithful, servant]   \n",
       "3          [i, am, just, feeling, cranky, and, blue]   \n",
       "4  [i, can, have, for, a, treat, or, if, i, am, f...   \n",
       "\n",
       "                                    body_text_nostop  \n",
       "0  [im, feeling, quite, sad, sorry, ill, snap, soon]  \n",
       "1  [feel, like, still, looking, blank, canvas, bl...  \n",
       "2                    [feel, like, faithful, servant]  \n",
       "3                            [feeling, cranky, blue]  \n",
       "4                          [treat, feeling, festive]  "
      ]
     },
     "execution_count": 41,
     "metadata": {},
     "output_type": "execute_result"
    }
   ],
   "source": [
    "import nltk\n",
    "\n",
    "stopword = nltk.corpus.stopwords.words('english')# All English Stopwords\n",
    "\n",
    "\n",
    "# Function to remove Stopwords\n",
    "def remove_stopwords(tokenized_list):\n",
    "    text = [word for word in tokenized_list if word not in stopword]# To remove all stopwords\n",
    "    return text\n",
    "\n",
    "data['body_text_nostop'] = data['body_text_tokenized'].apply(lambda x: remove_stopwords(x))\n",
    "\n",
    "data.head()"
   ]
  },
  {
   "cell_type": "markdown",
   "metadata": {},
   "source": [
    "**Stemming** : Basically, here we reduce words of similar forms into its base form so that it is easier for the machine to understand these words. Eg) Searching == searched == search"
   ]
  },
  {
   "cell_type": "code",
   "execution_count": 42,
   "metadata": {},
   "outputs": [
    {
     "data": {
      "text/html": [
       "<div>\n",
       "<style scoped>\n",
       "    .dataframe tbody tr th:only-of-type {\n",
       "        vertical-align: middle;\n",
       "    }\n",
       "\n",
       "    .dataframe tbody tr th {\n",
       "        vertical-align: top;\n",
       "    }\n",
       "\n",
       "    .dataframe thead th {\n",
       "        text-align: right;\n",
       "    }\n",
       "</style>\n",
       "<table border=\"1\" class=\"dataframe\">\n",
       "  <thead>\n",
       "    <tr style=\"text-align: right;\">\n",
       "      <th></th>\n",
       "      <th>text</th>\n",
       "      <th>emotions</th>\n",
       "      <th>body_text_clean</th>\n",
       "      <th>body_text_tokenized</th>\n",
       "      <th>body_text_nostop</th>\n",
       "      <th>body_text_stemmed</th>\n",
       "    </tr>\n",
       "  </thead>\n",
       "  <tbody>\n",
       "    <tr>\n",
       "      <th>0</th>\n",
       "      <td>im feeling quite sad and sorry for myself but ...</td>\n",
       "      <td>sadness</td>\n",
       "      <td>im feeling quite sad and sorry for myself but ...</td>\n",
       "      <td>[im, feeling, quite, sad, and, sorry, for, mys...</td>\n",
       "      <td>[im, feeling, quite, sad, sorry, ill, snap, soon]</td>\n",
       "      <td>[im, feel, quit, sad, sorri, ill, snap, soon]</td>\n",
       "    </tr>\n",
       "    <tr>\n",
       "      <th>1</th>\n",
       "      <td>i feel like i am still looking at a blank canv...</td>\n",
       "      <td>sadness</td>\n",
       "      <td>i feel like i am still looking at a blank canv...</td>\n",
       "      <td>[i, feel, like, i, am, still, looking, at, a, ...</td>\n",
       "      <td>[feel, like, still, looking, blank, canvas, bl...</td>\n",
       "      <td>[feel, like, still, look, blank, canva, blank,...</td>\n",
       "    </tr>\n",
       "    <tr>\n",
       "      <th>2</th>\n",
       "      <td>i feel like a faithful servant</td>\n",
       "      <td>love</td>\n",
       "      <td>i feel like a faithful servant</td>\n",
       "      <td>[i, feel, like, a, faithful, servant]</td>\n",
       "      <td>[feel, like, faithful, servant]</td>\n",
       "      <td>[feel, like, faith, servant]</td>\n",
       "    </tr>\n",
       "    <tr>\n",
       "      <th>3</th>\n",
       "      <td>i am just feeling cranky and blue</td>\n",
       "      <td>anger</td>\n",
       "      <td>i am just feeling cranky and blue</td>\n",
       "      <td>[i, am, just, feeling, cranky, and, blue]</td>\n",
       "      <td>[feeling, cranky, blue]</td>\n",
       "      <td>[feel, cranki, blue]</td>\n",
       "    </tr>\n",
       "    <tr>\n",
       "      <th>4</th>\n",
       "      <td>i can have for a treat or if i am feeling festive</td>\n",
       "      <td>joy</td>\n",
       "      <td>i can have for a treat or if i am feeling festive</td>\n",
       "      <td>[i, can, have, for, a, treat, or, if, i, am, f...</td>\n",
       "      <td>[treat, feeling, festive]</td>\n",
       "      <td>[treat, feel, festiv]</td>\n",
       "    </tr>\n",
       "  </tbody>\n",
       "</table>\n",
       "</div>"
      ],
      "text/plain": [
       "                                                text emotions  \\\n",
       "0  im feeling quite sad and sorry for myself but ...  sadness   \n",
       "1  i feel like i am still looking at a blank canv...  sadness   \n",
       "2                     i feel like a faithful servant     love   \n",
       "3                  i am just feeling cranky and blue    anger   \n",
       "4  i can have for a treat or if i am feeling festive      joy   \n",
       "\n",
       "                                     body_text_clean  \\\n",
       "0  im feeling quite sad and sorry for myself but ...   \n",
       "1  i feel like i am still looking at a blank canv...   \n",
       "2                     i feel like a faithful servant   \n",
       "3                  i am just feeling cranky and blue   \n",
       "4  i can have for a treat or if i am feeling festive   \n",
       "\n",
       "                                 body_text_tokenized  \\\n",
       "0  [im, feeling, quite, sad, and, sorry, for, mys...   \n",
       "1  [i, feel, like, i, am, still, looking, at, a, ...   \n",
       "2              [i, feel, like, a, faithful, servant]   \n",
       "3          [i, am, just, feeling, cranky, and, blue]   \n",
       "4  [i, can, have, for, a, treat, or, if, i, am, f...   \n",
       "\n",
       "                                    body_text_nostop  \\\n",
       "0  [im, feeling, quite, sad, sorry, ill, snap, soon]   \n",
       "1  [feel, like, still, looking, blank, canvas, bl...   \n",
       "2                    [feel, like, faithful, servant]   \n",
       "3                            [feeling, cranky, blue]   \n",
       "4                          [treat, feeling, festive]   \n",
       "\n",
       "                                   body_text_stemmed  \n",
       "0      [im, feel, quit, sad, sorri, ill, snap, soon]  \n",
       "1  [feel, like, still, look, blank, canva, blank,...  \n",
       "2                       [feel, like, faith, servant]  \n",
       "3                               [feel, cranki, blue]  \n",
       "4                              [treat, feel, festiv]  "
      ]
     },
     "execution_count": 42,
     "metadata": {},
     "output_type": "execute_result"
    }
   ],
   "source": [
    "ps = nltk.PorterStemmer()\n",
    "\n",
    "def stemming(tokenized_text):\n",
    "    text = [ps.stem(word) for word in tokenized_text]\n",
    "    return text\n",
    "\n",
    "data['body_text_stemmed'] = data['body_text_nostop'].apply(lambda x: stemming(x))\n",
    "\n",
    "data.head()"
   ]
  },
  {
   "cell_type": "markdown",
   "metadata": {},
   "source": [
    "**Lemmatizing** : Basically, here to improve accuracy, we attempt to replace words with synonyms based on the context of the sentence"
   ]
  },
  {
   "cell_type": "code",
   "execution_count": 43,
   "metadata": {
    "scrolled": true
   },
   "outputs": [
    {
     "data": {
      "text/html": [
       "<div>\n",
       "<style scoped>\n",
       "    .dataframe tbody tr th:only-of-type {\n",
       "        vertical-align: middle;\n",
       "    }\n",
       "\n",
       "    .dataframe tbody tr th {\n",
       "        vertical-align: top;\n",
       "    }\n",
       "\n",
       "    .dataframe thead th {\n",
       "        text-align: right;\n",
       "    }\n",
       "</style>\n",
       "<table border=\"1\" class=\"dataframe\">\n",
       "  <thead>\n",
       "    <tr style=\"text-align: right;\">\n",
       "      <th></th>\n",
       "      <th>text</th>\n",
       "      <th>emotions</th>\n",
       "      <th>body_text_clean</th>\n",
       "      <th>body_text_tokenized</th>\n",
       "      <th>body_text_nostop</th>\n",
       "      <th>body_text_stemmed</th>\n",
       "      <th>body_text_lemmatized</th>\n",
       "    </tr>\n",
       "  </thead>\n",
       "  <tbody>\n",
       "    <tr>\n",
       "      <th>0</th>\n",
       "      <td>im feeling quite sad and sorry for myself but ...</td>\n",
       "      <td>sadness</td>\n",
       "      <td>im feeling quite sad and sorry for myself but ...</td>\n",
       "      <td>[im, feeling, quite, sad, and, sorry, for, mys...</td>\n",
       "      <td>[im, feeling, quite, sad, sorry, ill, snap, soon]</td>\n",
       "      <td>[im, feel, quit, sad, sorri, ill, snap, soon]</td>\n",
       "      <td>[im, feeling, quite, sad, sorry, ill, snap, soon]</td>\n",
       "    </tr>\n",
       "    <tr>\n",
       "      <th>1</th>\n",
       "      <td>i feel like i am still looking at a blank canv...</td>\n",
       "      <td>sadness</td>\n",
       "      <td>i feel like i am still looking at a blank canv...</td>\n",
       "      <td>[i, feel, like, i, am, still, looking, at, a, ...</td>\n",
       "      <td>[feel, like, still, looking, blank, canvas, bl...</td>\n",
       "      <td>[feel, like, still, look, blank, canva, blank,...</td>\n",
       "      <td>[feel, like, still, looking, blank, canvas, bl...</td>\n",
       "    </tr>\n",
       "    <tr>\n",
       "      <th>2</th>\n",
       "      <td>i feel like a faithful servant</td>\n",
       "      <td>love</td>\n",
       "      <td>i feel like a faithful servant</td>\n",
       "      <td>[i, feel, like, a, faithful, servant]</td>\n",
       "      <td>[feel, like, faithful, servant]</td>\n",
       "      <td>[feel, like, faith, servant]</td>\n",
       "      <td>[feel, like, faithful, servant]</td>\n",
       "    </tr>\n",
       "    <tr>\n",
       "      <th>3</th>\n",
       "      <td>i am just feeling cranky and blue</td>\n",
       "      <td>anger</td>\n",
       "      <td>i am just feeling cranky and blue</td>\n",
       "      <td>[i, am, just, feeling, cranky, and, blue]</td>\n",
       "      <td>[feeling, cranky, blue]</td>\n",
       "      <td>[feel, cranki, blue]</td>\n",
       "      <td>[feeling, cranky, blue]</td>\n",
       "    </tr>\n",
       "    <tr>\n",
       "      <th>4</th>\n",
       "      <td>i can have for a treat or if i am feeling festive</td>\n",
       "      <td>joy</td>\n",
       "      <td>i can have for a treat or if i am feeling festive</td>\n",
       "      <td>[i, can, have, for, a, treat, or, if, i, am, f...</td>\n",
       "      <td>[treat, feeling, festive]</td>\n",
       "      <td>[treat, feel, festiv]</td>\n",
       "      <td>[treat, feeling, festive]</td>\n",
       "    </tr>\n",
       "    <tr>\n",
       "      <th>5</th>\n",
       "      <td>i start to feel more appreciative of what god ...</td>\n",
       "      <td>joy</td>\n",
       "      <td>i start to feel more appreciative of what god ...</td>\n",
       "      <td>[i, start, to, feel, more, appreciative, of, w...</td>\n",
       "      <td>[start, feel, appreciative, god, done]</td>\n",
       "      <td>[start, feel, appreci, god, done]</td>\n",
       "      <td>[start, feel, appreciative, god, done]</td>\n",
       "    </tr>\n",
       "    <tr>\n",
       "      <th>6</th>\n",
       "      <td>i am feeling more confident that we will be ab...</td>\n",
       "      <td>joy</td>\n",
       "      <td>i am feeling more confident that we will be ab...</td>\n",
       "      <td>[i, am, feeling, more, confident, that, we, wi...</td>\n",
       "      <td>[feeling, confident, able, take, care, baby]</td>\n",
       "      <td>[feel, confid, abl, take, care, babi]</td>\n",
       "      <td>[feeling, confident, able, take, care, baby]</td>\n",
       "    </tr>\n",
       "    <tr>\n",
       "      <th>7</th>\n",
       "      <td>i feel incredibly lucky just to be able to tal...</td>\n",
       "      <td>joy</td>\n",
       "      <td>i feel incredibly lucky just to be able to tal...</td>\n",
       "      <td>[i, feel, incredibly, lucky, just, to, be, abl...</td>\n",
       "      <td>[feel, incredibly, lucky, able, talk]</td>\n",
       "      <td>[feel, incred, lucki, abl, talk]</td>\n",
       "      <td>[feel, incredibly, lucky, able, talk]</td>\n",
       "    </tr>\n",
       "    <tr>\n",
       "      <th>8</th>\n",
       "      <td>i feel less keen about the army every day</td>\n",
       "      <td>joy</td>\n",
       "      <td>i feel less keen about the army every day</td>\n",
       "      <td>[i, feel, less, keen, about, the, army, every,...</td>\n",
       "      <td>[feel, less, keen, army, every, day]</td>\n",
       "      <td>[feel, less, keen, armi, everi, day]</td>\n",
       "      <td>[feel, le, keen, army, every, day]</td>\n",
       "    </tr>\n",
       "    <tr>\n",
       "      <th>9</th>\n",
       "      <td>i feel dirty and ashamed for saying that</td>\n",
       "      <td>sadness</td>\n",
       "      <td>i feel dirty and ashamed for saying that</td>\n",
       "      <td>[i, feel, dirty, and, ashamed, for, saying, that]</td>\n",
       "      <td>[feel, dirty, ashamed, saying]</td>\n",
       "      <td>[feel, dirti, asham, say]</td>\n",
       "      <td>[feel, dirty, ashamed, saying]</td>\n",
       "    </tr>\n",
       "  </tbody>\n",
       "</table>\n",
       "</div>"
      ],
      "text/plain": [
       "                                                text emotions  \\\n",
       "0  im feeling quite sad and sorry for myself but ...  sadness   \n",
       "1  i feel like i am still looking at a blank canv...  sadness   \n",
       "2                     i feel like a faithful servant     love   \n",
       "3                  i am just feeling cranky and blue    anger   \n",
       "4  i can have for a treat or if i am feeling festive      joy   \n",
       "5  i start to feel more appreciative of what god ...      joy   \n",
       "6  i am feeling more confident that we will be ab...      joy   \n",
       "7  i feel incredibly lucky just to be able to tal...      joy   \n",
       "8          i feel less keen about the army every day      joy   \n",
       "9           i feel dirty and ashamed for saying that  sadness   \n",
       "\n",
       "                                     body_text_clean  \\\n",
       "0  im feeling quite sad and sorry for myself but ...   \n",
       "1  i feel like i am still looking at a blank canv...   \n",
       "2                     i feel like a faithful servant   \n",
       "3                  i am just feeling cranky and blue   \n",
       "4  i can have for a treat or if i am feeling festive   \n",
       "5  i start to feel more appreciative of what god ...   \n",
       "6  i am feeling more confident that we will be ab...   \n",
       "7  i feel incredibly lucky just to be able to tal...   \n",
       "8          i feel less keen about the army every day   \n",
       "9           i feel dirty and ashamed for saying that   \n",
       "\n",
       "                                 body_text_tokenized  \\\n",
       "0  [im, feeling, quite, sad, and, sorry, for, mys...   \n",
       "1  [i, feel, like, i, am, still, looking, at, a, ...   \n",
       "2              [i, feel, like, a, faithful, servant]   \n",
       "3          [i, am, just, feeling, cranky, and, blue]   \n",
       "4  [i, can, have, for, a, treat, or, if, i, am, f...   \n",
       "5  [i, start, to, feel, more, appreciative, of, w...   \n",
       "6  [i, am, feeling, more, confident, that, we, wi...   \n",
       "7  [i, feel, incredibly, lucky, just, to, be, abl...   \n",
       "8  [i, feel, less, keen, about, the, army, every,...   \n",
       "9  [i, feel, dirty, and, ashamed, for, saying, that]   \n",
       "\n",
       "                                    body_text_nostop  \\\n",
       "0  [im, feeling, quite, sad, sorry, ill, snap, soon]   \n",
       "1  [feel, like, still, looking, blank, canvas, bl...   \n",
       "2                    [feel, like, faithful, servant]   \n",
       "3                            [feeling, cranky, blue]   \n",
       "4                          [treat, feeling, festive]   \n",
       "5             [start, feel, appreciative, god, done]   \n",
       "6       [feeling, confident, able, take, care, baby]   \n",
       "7              [feel, incredibly, lucky, able, talk]   \n",
       "8               [feel, less, keen, army, every, day]   \n",
       "9                     [feel, dirty, ashamed, saying]   \n",
       "\n",
       "                                   body_text_stemmed  \\\n",
       "0      [im, feel, quit, sad, sorri, ill, snap, soon]   \n",
       "1  [feel, like, still, look, blank, canva, blank,...   \n",
       "2                       [feel, like, faith, servant]   \n",
       "3                               [feel, cranki, blue]   \n",
       "4                              [treat, feel, festiv]   \n",
       "5                  [start, feel, appreci, god, done]   \n",
       "6              [feel, confid, abl, take, care, babi]   \n",
       "7                   [feel, incred, lucki, abl, talk]   \n",
       "8               [feel, less, keen, armi, everi, day]   \n",
       "9                          [feel, dirti, asham, say]   \n",
       "\n",
       "                                body_text_lemmatized  \n",
       "0  [im, feeling, quite, sad, sorry, ill, snap, soon]  \n",
       "1  [feel, like, still, looking, blank, canvas, bl...  \n",
       "2                    [feel, like, faithful, servant]  \n",
       "3                            [feeling, cranky, blue]  \n",
       "4                          [treat, feeling, festive]  \n",
       "5             [start, feel, appreciative, god, done]  \n",
       "6       [feeling, confident, able, take, care, baby]  \n",
       "7              [feel, incredibly, lucky, able, talk]  \n",
       "8                 [feel, le, keen, army, every, day]  \n",
       "9                     [feel, dirty, ashamed, saying]  "
      ]
     },
     "execution_count": 43,
     "metadata": {},
     "output_type": "execute_result"
    }
   ],
   "source": [
    "wn = nltk.WordNetLemmatizer()\n",
    "\n",
    "def lemmatizing(tokenized_text):\n",
    "    text = [wn.lemmatize(word) for word in tokenized_text]\n",
    "    return text\n",
    "\n",
    "data['body_text_lemmatized'] = data['body_text_nostop'].apply(lambda x: lemmatizing(x))\n",
    "\n",
    "data.head(10)"
   ]
  },
  {
   "cell_type": "markdown",
   "metadata": {},
   "source": [
    "**Beginning of the actual code**"
   ]
  },
  {
   "cell_type": "markdown",
   "metadata": {},
   "source": [
    "**Creating the analyser function** :\n",
    "Basically, this is a combintion of all the above functions (we chose to use stemming instead of lemmatization) , first we convert the letters to lower case. Next, we remove the punctions followed by splitting them into an array of string. Lastly, we reduce the words into its base word IFF it is not a stop word"
   ]
  },
  {
   "cell_type": "code",
   "execution_count": 44,
   "metadata": {},
   "outputs": [],
   "source": [
    "def clean_text(text):\n",
    "    text = \"\".join([word.lower() for word in text if word not in string.punctuation])\n",
    "    tokens = re.split('\\W+', text)\n",
    "    text = [ps.stem(word) for word in tokens if word not in stopword]\n",
    "    return text"
   ]
  },
  {
   "cell_type": "markdown",
   "metadata": {},
   "source": [
    "**Spliting the data**"
   ]
  },
  {
   "cell_type": "code",
   "execution_count": 45,
   "metadata": {},
   "outputs": [],
   "source": [
    "from sklearn.model_selection import train_test_split\n",
    "\n",
    "X=data[['text']]\n",
    "y=data['emotions']\n",
    "\n",
    "X_train, X_test, y_train, y_test = train_test_split(X,y, test_size=0.2, random_state=42)"
   ]
  },
  {
   "cell_type": "markdown",
   "metadata": {},
   "source": [
    "**Feature extraction**: TfidfVectorizer - Transforms text to feature vectors that can be used as input to estimator."
   ]
  },
  {
   "cell_type": "code",
   "execution_count": 46,
   "metadata": {},
   "outputs": [
    {
     "data": {
      "text/html": [
       "<div>\n",
       "<style scoped>\n",
       "    .dataframe tbody tr th:only-of-type {\n",
       "        vertical-align: middle;\n",
       "    }\n",
       "\n",
       "    .dataframe tbody tr th {\n",
       "        vertical-align: top;\n",
       "    }\n",
       "\n",
       "    .dataframe thead th {\n",
       "        text-align: right;\n",
       "    }\n",
       "</style>\n",
       "<table border=\"1\" class=\"dataframe\">\n",
       "  <thead>\n",
       "    <tr style=\"text-align: right;\">\n",
       "      <th></th>\n",
       "      <th>0</th>\n",
       "      <th>1</th>\n",
       "      <th>2</th>\n",
       "      <th>3</th>\n",
       "      <th>4</th>\n",
       "      <th>5</th>\n",
       "      <th>6</th>\n",
       "      <th>7</th>\n",
       "      <th>8</th>\n",
       "      <th>9</th>\n",
       "      <th>...</th>\n",
       "      <th>3199</th>\n",
       "      <th>3200</th>\n",
       "      <th>3201</th>\n",
       "      <th>3202</th>\n",
       "      <th>3203</th>\n",
       "      <th>3204</th>\n",
       "      <th>3205</th>\n",
       "      <th>3206</th>\n",
       "      <th>3207</th>\n",
       "      <th>3208</th>\n",
       "    </tr>\n",
       "  </thead>\n",
       "  <tbody>\n",
       "    <tr>\n",
       "      <th>0</th>\n",
       "      <td>0.0</td>\n",
       "      <td>0.0</td>\n",
       "      <td>0.0</td>\n",
       "      <td>0.0</td>\n",
       "      <td>0.0</td>\n",
       "      <td>0.0</td>\n",
       "      <td>0.0</td>\n",
       "      <td>0.0</td>\n",
       "      <td>0.0</td>\n",
       "      <td>0.0</td>\n",
       "      <td>...</td>\n",
       "      <td>0.0</td>\n",
       "      <td>0.0</td>\n",
       "      <td>0.0</td>\n",
       "      <td>0.0</td>\n",
       "      <td>0.0</td>\n",
       "      <td>0.0</td>\n",
       "      <td>0.0</td>\n",
       "      <td>0.0</td>\n",
       "      <td>0.0</td>\n",
       "      <td>0.0</td>\n",
       "    </tr>\n",
       "    <tr>\n",
       "      <th>1</th>\n",
       "      <td>0.0</td>\n",
       "      <td>0.0</td>\n",
       "      <td>0.0</td>\n",
       "      <td>0.0</td>\n",
       "      <td>0.0</td>\n",
       "      <td>0.0</td>\n",
       "      <td>0.0</td>\n",
       "      <td>0.0</td>\n",
       "      <td>0.0</td>\n",
       "      <td>0.0</td>\n",
       "      <td>...</td>\n",
       "      <td>0.0</td>\n",
       "      <td>0.0</td>\n",
       "      <td>0.0</td>\n",
       "      <td>0.0</td>\n",
       "      <td>0.0</td>\n",
       "      <td>0.0</td>\n",
       "      <td>0.0</td>\n",
       "      <td>0.0</td>\n",
       "      <td>0.0</td>\n",
       "      <td>0.0</td>\n",
       "    </tr>\n",
       "    <tr>\n",
       "      <th>2</th>\n",
       "      <td>0.0</td>\n",
       "      <td>0.0</td>\n",
       "      <td>0.0</td>\n",
       "      <td>0.0</td>\n",
       "      <td>0.0</td>\n",
       "      <td>0.0</td>\n",
       "      <td>0.0</td>\n",
       "      <td>0.0</td>\n",
       "      <td>0.0</td>\n",
       "      <td>0.0</td>\n",
       "      <td>...</td>\n",
       "      <td>0.0</td>\n",
       "      <td>0.0</td>\n",
       "      <td>0.0</td>\n",
       "      <td>0.0</td>\n",
       "      <td>0.0</td>\n",
       "      <td>0.0</td>\n",
       "      <td>0.0</td>\n",
       "      <td>0.0</td>\n",
       "      <td>0.0</td>\n",
       "      <td>0.0</td>\n",
       "    </tr>\n",
       "    <tr>\n",
       "      <th>3</th>\n",
       "      <td>0.0</td>\n",
       "      <td>0.0</td>\n",
       "      <td>0.0</td>\n",
       "      <td>0.0</td>\n",
       "      <td>0.0</td>\n",
       "      <td>0.0</td>\n",
       "      <td>0.0</td>\n",
       "      <td>0.0</td>\n",
       "      <td>0.0</td>\n",
       "      <td>0.0</td>\n",
       "      <td>...</td>\n",
       "      <td>0.0</td>\n",
       "      <td>0.0</td>\n",
       "      <td>0.0</td>\n",
       "      <td>0.0</td>\n",
       "      <td>0.0</td>\n",
       "      <td>0.0</td>\n",
       "      <td>0.0</td>\n",
       "      <td>0.0</td>\n",
       "      <td>0.0</td>\n",
       "      <td>0.0</td>\n",
       "    </tr>\n",
       "    <tr>\n",
       "      <th>4</th>\n",
       "      <td>0.0</td>\n",
       "      <td>0.0</td>\n",
       "      <td>0.0</td>\n",
       "      <td>0.0</td>\n",
       "      <td>0.0</td>\n",
       "      <td>0.0</td>\n",
       "      <td>0.0</td>\n",
       "      <td>0.0</td>\n",
       "      <td>0.0</td>\n",
       "      <td>0.0</td>\n",
       "      <td>...</td>\n",
       "      <td>0.0</td>\n",
       "      <td>0.0</td>\n",
       "      <td>0.0</td>\n",
       "      <td>0.0</td>\n",
       "      <td>0.0</td>\n",
       "      <td>0.0</td>\n",
       "      <td>0.0</td>\n",
       "      <td>0.0</td>\n",
       "      <td>0.0</td>\n",
       "      <td>0.0</td>\n",
       "    </tr>\n",
       "  </tbody>\n",
       "</table>\n",
       "<p>5 rows × 3209 columns</p>\n",
       "</div>"
      ],
      "text/plain": [
       "   0     1     2     3     4     5     6     7     8     9     ...  3199  \\\n",
       "0   0.0   0.0   0.0   0.0   0.0   0.0   0.0   0.0   0.0   0.0  ...   0.0   \n",
       "1   0.0   0.0   0.0   0.0   0.0   0.0   0.0   0.0   0.0   0.0  ...   0.0   \n",
       "2   0.0   0.0   0.0   0.0   0.0   0.0   0.0   0.0   0.0   0.0  ...   0.0   \n",
       "3   0.0   0.0   0.0   0.0   0.0   0.0   0.0   0.0   0.0   0.0  ...   0.0   \n",
       "4   0.0   0.0   0.0   0.0   0.0   0.0   0.0   0.0   0.0   0.0  ...   0.0   \n",
       "\n",
       "   3200  3201  3202  3203  3204  3205  3206  3207  3208  \n",
       "0   0.0   0.0   0.0   0.0   0.0   0.0   0.0   0.0   0.0  \n",
       "1   0.0   0.0   0.0   0.0   0.0   0.0   0.0   0.0   0.0  \n",
       "2   0.0   0.0   0.0   0.0   0.0   0.0   0.0   0.0   0.0  \n",
       "3   0.0   0.0   0.0   0.0   0.0   0.0   0.0   0.0   0.0  \n",
       "4   0.0   0.0   0.0   0.0   0.0   0.0   0.0   0.0   0.0  \n",
       "\n",
       "[5 rows x 3209 columns]"
      ]
     },
     "execution_count": 46,
     "metadata": {},
     "output_type": "execute_result"
    }
   ],
   "source": [
    "# TF-IDF\n",
    "tfidf_vect = TfidfVectorizer(analyzer=clean_text)\n",
    "tfidf_vect_fit = tfidf_vect.fit(X_train['text'])\n",
    "\n",
    "tfidf_train = tfidf_vect_fit.transform(X_train['text'])\n",
    "X_train_vect =  pd.DataFrame(tfidf_train.toarray())\n",
    "\n",
    "tfidf_test = tfidf_vect_fit.transform(X_test['text'])\n",
    "X_test_vect =  pd.DataFrame(tfidf_test.toarray())\n",
    "\n",
    "X_train_vect.head()"
   ]
  },
  {
   "cell_type": "markdown",
   "metadata": {},
   "source": [
    "**Training the model**"
   ]
  },
  {
   "cell_type": "code",
   "execution_count": 47,
   "metadata": {},
   "outputs": [],
   "source": [
    "from sklearn.ensemble import RandomForestClassifier, GradientBoostingClassifier\n",
    "from sklearn.metrics import precision_recall_fscore_support as score\n",
    "from sklearn.metrics import accuracy_score as acs\n",
    "import matplotlib.pyplot as plt\n",
    "import seaborn as sns\n",
    "\n",
    "rf = RandomForestClassifier(n_estimators=150, max_depth=None, n_jobs=-1)\n",
    "rf_model = rf.fit(X_train_vect, y_train)"
   ]
  },
  {
   "cell_type": "markdown",
   "metadata": {},
   "source": [
    "**Evaluating the model**"
   ]
  },
  {
   "cell_type": "code",
   "execution_count": 48,
   "metadata": {},
   "outputs": [],
   "source": [
    "y_pred = rf_model.predict(X_test_vect)\n",
    "\n",
    "#y_pred"
   ]
  },
  {
   "cell_type": "code",
   "execution_count": 49,
   "metadata": {},
   "outputs": [
    {
     "data": {
      "image/png": "[encoded data removed]",
      "text/plain": [
       "<Figure size 432x288 with 2 Axes>"
      ]
     },
     "metadata": {
      "needs_background": "light"
     },
     "output_type": "display_data"
    }
   ],
   "source": [
    "from sklearn import metrics\n",
    "metrics.confusion_matrix(y_test, y_pred, labels=[\"joy\",\"sadness\", \"anger\",\"fear\",\"love\",\"surprise\"])\n",
    "\n",
    "# Making the Confusion Matrix\n",
    "from sklearn.metrics import confusion_matrix\n",
    "cm = confusion_matrix(y_test, y_pred)\n",
    "class_label = [\"joy\",\"sadness\", \"anger\",\"fear\",\"love\",\"surprise\"]\n",
    "df_cm = pd.DataFrame(cm, index=class_label,columns=class_label)\n",
    "sns.heatmap(df_cm, annot=True, fmt='d')\n",
    "plt.title(\"Confusion Matrix\")\n",
    "plt.xlabel(\"Predicted Label\")\n",
    "plt.ylabel(\"True Label\")\n",
    "plt.show()"
   ]
  },
  {
   "cell_type": "markdown",
   "metadata": {},
   "source": [
    "**Accuracy of the model**"
   ]
  },
  {
   "cell_type": "code",
   "execution_count": 50,
   "metadata": {},
   "outputs": [
    {
     "name": "stdout",
     "output_type": "stream",
     "text": [
      "0.6275\n"
     ]
    }
   ],
   "source": [
    "from sklearn.metrics import accuracy_score\n",
    "\n",
    "print(accuracy_score(y_test, y_pred))"
   ]
  },
  {
   "cell_type": "markdown",
   "metadata": {},
   "source": [
    "**Predictions**"
   ]
  },
  {
   "cell_type": "code",
   "execution_count": 51,
   "metadata": {},
   "outputs": [],
   "source": [
    "from random import randint\n",
    "\n",
    "def predict(text):\n",
    "    test = [[text]]\n",
    "    df = pd.DataFrame(test, columns = ['text'])\n",
    "    df_test = tfidf_vect_fit.transform(df['text'])\n",
    "    testingv1 = pd.DataFrame(df_test.toarray())\n",
    "    y_pred = rf_model.predict(testingv1)\n",
    "    \n",
    "    if(y_pred[0] == \"sadness\"):\n",
    "        val = randint(1, 3)\n",
    "        print(\"Predicted mood: \" + y_pred[0] )\n",
    "        if(val == 1):\n",
    "            print(\"Message: Don't be sad, things will get better\")\n",
    "        elif (val == 2):\n",
    "            print(\"Message: Cheer up!, things will get better\")\n",
    "        else:\n",
    "            print(\"Message: Tomorrow will be better! Cheer up\")\n",
    "    \n",
    "    if(y_pred[0] == \"anger\"):\n",
    "        val = randint(1, 3)\n",
    "        print(\"Predicted mood: \" + y_pred[0] )\n",
    "        if(val == 1):\n",
    "            print(\"Message: Patience and empathy are anger’s mortal enemies\")\n",
    "        elif (val == 2):\n",
    "            print(\"Message: The one who angers you, controls you. Let your anger go and become free.\")\n",
    "        else:\n",
    "            print(\"Message: Don't be angry over something you cannot control. Look forward!\")\n",
    "    \n",
    "    return y_pred"
   ]
  },
  {
   "cell_type": "code",
   "execution_count": 73,
   "metadata": {},
   "outputs": [
    {
     "data": {
      "text/plain": [
       "array(['joy'], dtype=object)"
      ]
     },
     "execution_count": 73,
     "metadata": {},
     "output_type": "execute_result"
    }
   ],
   "source": [
    "predict(\"I got top position for another competition today! This week has been so great and I’m looking forward to going out with my friends over the weekend. >~< \")"
   ]
  },
  {
   "cell_type": "code",
   "execution_count": 72,
   "metadata": {},
   "outputs": [
    {
     "name": "stdout",
     "output_type": "stream",
     "text": [
      "Predicted mood: sadness\n",
      "Message: Tomorrow will be better! Cheer up\n"
     ]
    },
    {
     "data": {
      "text/plain": [
       "array(['sadness'], dtype=object)"
      ]
     },
     "execution_count": 72,
     "metadata": {},
     "output_type": "execute_result"
    }
   ],
   "source": [
    "predict(\"Today has been a very tiring day. The day has been very packed and with non-stop activities with little rest. I am drained, ashamed, super tired and about to knock out anytime now :( \")"
   ]
  },
  {
   "cell_type": "markdown",
   "metadata": {},
   "source": [
    "**Mock up of I-care** Functionality: Tracking the percentage of negative emotions the person has been feeling for the past month"
   ]
  },
  {
   "cell_type": "code",
   "execution_count": 54,
   "metadata": {},
   "outputs": [],
   "source": [
    "#Here, list (moodLast30Days) acts as our database to store the negative emotions\n",
    "moodLast30Days = []"
   ]
  },
  {
   "cell_type": "markdown",
   "metadata": {},
   "source": [
    "**Code below simulates the storing and processing the of journal entry**"
   ]
  },
  {
   "cell_type": "code",
   "execution_count": 55,
   "metadata": {},
   "outputs": [
    {
     "name": "stdout",
     "output_type": "stream",
     "text": [
      "Predicted mood: anger\n",
      "Message: The one who angers you, controls you. Let your anger go and become free.\n"
     ]
    }
   ],
   "source": [
    "#The journal entry each day will be input into the predict function\n",
    "moodOfTheDay = predict(\"ANgry\")[0]\n",
    "\n",
    "if(len(moodLast30Days) < 30):\n",
    "    moodLast30Days.append(moodOfTheDay)\n",
    "else: #Track data only for the last 30 days\n",
    "    moodLast30Days.pop(0)\n",
    "    moodLast30Days.append(moodOfTheDay)\n"
   ]
  },
  {
   "cell_type": "code",
   "execution_count": 56,
   "metadata": {},
   "outputs": [],
   "source": [
    "# \"sadness\", \"anger\",\"fear\"\n",
    "#Calculate the number of times a person has experienced negative emotions\n",
    "def percentageNegativeSentiments():\n",
    "    count = 0\n",
    "    for x in moodLast30Days:\n",
    "        #print(x)\n",
    "        if(x == \"sadness\" or x == \"anger\" or x == \"fear\"):\n",
    "            count = count + 1\n",
    "    print(\"Number of times you have experienced negative emotions in the past month: \" +  str(count))\n",
    "    percentage = count/len(moodLast30Days) * 100\n",
    "    percentage = round(percentage, 1)\n",
    "    print(\"Negative emotions in the past month (percentage): \" +  str(percentage) + \"%\")\n",
    "    \n",
    "    if(percentage >= 30):\n",
    "        #Trigger some form of help\n",
    "        print(\"--------------------------------------------------------------------------\")\n",
    "        print(\"Cheer up when the night comes, because mornings always give you another chance.\")\n",
    "        print(\"If you require any help, please contact:\")\n",
    "        print(\"TOUCHline (Counselling): 1800-377-2252 (Mon to Fri, 9am to 6pm)\")\n",
    "    \n"
   ]
  },
  {
   "cell_type": "code",
   "execution_count": 57,
   "metadata": {},
   "outputs": [
    {
     "data": {
      "text/plain": [
       "['anger']"
      ]
     },
     "execution_count": 57,
     "metadata": {},
     "output_type": "execute_result"
    }
   ],
   "source": [
    "moodLast30Days"
   ]
  },
  {
   "cell_type": "code",
   "execution_count": 58,
   "metadata": {},
   "outputs": [
    {
     "name": "stdout",
     "output_type": "stream",
     "text": [
      "Number of times you have experienced negative emotions in the past month: 1\n",
      "Negative emotions in the past month (percentage): 100.0%\n",
      "--------------------------------------------------------------------------\n",
      "Cheer up when the night comes, because mornings always give you another chance.\n",
      "If you require any help, please contact:\n",
      "TOUCHline (Counselling): 1800-377-2252 (Mon to Fri, 9am to 6pm)\n"
     ]
    }
   ],
   "source": [
    "percentageNegativeSentiments()"
   ]
  },
  {
   "cell_type": "code",
   "execution_count": null,
   "metadata": {},
   "outputs": [],
   "source": []
  },
  {
   "cell_type": "code",
   "execution_count": 59,
   "metadata": {},
   "outputs": [
    {
     "data": {
      "text/plain": [
       "array(['joy'], dtype=object)"
      ]
     },
     "execution_count": 59,
     "metadata": {},
     "output_type": "execute_result"
    }
   ],
   "source": [
    "predict(\"I got top position for another competition today! This week has been so great and I’m looking forward to going out with my friends over the weekend. >~< \")"
   ]
  },
  {
   "cell_type": "code",
   "execution_count": null,
   "metadata": {},
   "outputs": [],
   "source": []
  }
 ],
 "metadata": {
  "kernelspec": {
   "display_name": "Python 3",
   "language": "python",
   "name": "python3"
  },
  "language_info": {
   "codemirror_mode": {
    "name": "ipython",
    "version": 3
   },
   "file_extension": ".py",
   "mimetype": "text/x-python",
   "name": "python",
   "nbconvert_exporter": "python",
   "pygments_lexer": "ipython3",
   "version": "3.8.5"
  }
 },
 "nbformat": 4,
 "nbformat_minor": 4
}
